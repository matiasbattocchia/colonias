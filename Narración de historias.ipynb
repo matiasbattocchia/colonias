{
 "cells": [
  {
   "cell_type": "markdown",
   "metadata": {},
   "source": [
    "# Narración de historias con datos\n",
    "\n",
    "También conocido como *data storytelling*. Una historia en el contexto de ciencia de datos es una narrativa acerca de lo que encontraste, cómo lo encontraste y qué significa. Un ejemplo podría ser el descubrimiento de que la ganancia de tu empresa cayó un 20% en el último año. No es suficiente exponer ese hecho — tenés que comunicar por qué la ganancia cayó y cómo se podría solucionar.\n",
    "\n",
    "Las componenetes principales de las historias con datos son:\n",
    "\n",
    "* Entendimiento/establecimiento del contexto\n",
    "* Múltiples puntos de vista\n",
    "* Visualizaciones explicativas\n",
    "* Fuentes de datos varias\n",
    "* Narrativa consistente\n",
    "\n",
    "*Fuente*: https://www.dataquest.io/blog/data-science-portfolio-project"
   ]
  },
  {
   "cell_type": "markdown",
   "metadata": {},
   "source": [
    "Algunos consejos...\n",
    "\n",
    "1. **Empezar con una pregunta**: Plantear la historia.\n",
    "1. **Terminar con un descubrimiento**: Si no conseguimos nada útil de los datos, entonces no vale la pena contar la historia.\n",
    "1. **Contar una historia irresistible**: Recordamos las historias, no los datos. Llevar a la audiencia de paseo.\n",
    "1. **Explicar con visuales, narrar con palabras**: Entendemos métricas, tendencias y patrones mejor con visuales. Usar las palabras para darle voz a los datos.\n",
    "1. **Ser honesto y creíble**: No conducir la narrativa con datos parciales.\n",
    "1. **Ser claro y conciso**: Remover todo lo que no sea parte de la historia; salvar lo que sobre para un próximo trabajo.\n",
    "1. **Adaptarse a la audiencia**: Tener en cuenta sus intereses. ¿Prefieren los detalles o una visión por arriba?\n",
    "1. **Proveer contexto**: Fuera de contexto, los números no tienen significado. Hacer comparaciones temporales y/o con otros resultados.\n",
    "\n",
    "*Fuente*: https://twooctobers.com/blog/8-data-storytelling-concepts-with-examples"
   ]
  },
  {
   "cell_type": "markdown",
   "metadata": {},
   "source": [
    "Es conveniente estructurar las historias de la misma manera que se estructuran las publicaciones científicas.\n",
    "\n",
    "1. **Contexto**: ¿Qué motivó este análisis?, ¿cuál es la pregunta que estamos intentando responder?. Señalar trabajos previos relacionados.\n",
    "\n",
    "2. **Metodología**: Registrar la metodología usada. Si se eligió alguna en particular por sobre otras, explicar la elección. Ser transparente con los alcances y limitaciones de la metodología y en cómo impacta esto en la precisión y confiabilidad de los resultados.\n",
    "\n",
    "3. **Resultados**: Realizar el análisis de una manera repetible. Adherir a estádares estadísticos apropiados; registrar todas las instancias de cumplimiento e incumplimiento de los datos con tales estándares.\n",
    "\n",
    "4. **Discusión**: Obtener críticas y revisión de pares cuando sea posible. Comparar los resultados con trabajos previos. Ser transparente cuando las conclusiones no se obtienen directamente de los resultados (especulaciones).\n",
    "\n",
    "5. **Conclusiones**: Comunicar de forma concisa las conclusiones sólidas. Donde haya incertezas, presentarlas como fuente de futuras investigaciones.\n",
    "\n",
    "*Fuente*: https://towardsdatascience.com/beware-of-storytelling-with-data-1710fea554b0"
   ]
  },
  {
   "cell_type": "markdown",
   "metadata": {},
   "source": [
    "Esta guía nos puede ayudar a elegir las visualizaciones correctas en función de nuestos datos.\n",
    "\n",
    "![](visualizaciones.png)\n",
    "\n",
    "---"
   ]
  },
  {
   "cell_type": "markdown",
   "metadata": {},
   "source": [
    "## ¿Qué hubiese pasado si hubiéramos sido una colonia inglesa?"
   ]
  },
  {
   "cell_type": "markdown",
   "metadata": {},
   "source": [
    "### Contexto\n",
    "\n",
    "#### Motivación\n",
    "\n",
    "Una vez leí que la conquista española había sido particular en el siguiente sentido: en vez exterminar a las poblaciones nativas —debido a la matriz de pensamiento *católica* de España— se amalgamaron con ellas. Las sometieron a su cultura, lenguaje, religión; las explotaron... y en el interín se mezclaron con ellas dando lugar al **mestizaje**.\n",
    "\n",
    "En contraposición, las conquistas británicas consistieron en el exterminio de las poblaciones locales o, en el caso de co-existencia, sin mezcla. \n",
    "\n",
    "![](introducción-al-pensamiento-nacional.jpg)\n",
    "\n",
    "Sabemos de ex-colonias inglesas a las que les va realmente bien, como Australia y Nueva Zelanda. Sabemos que el Imperio tuvo la intención de anexar nuestros territorios, así hubiese sido de no haberse repelido las invasiones inglesas. A más de uno le escuché decir alguna vez \"estaríamos mejor si hubiésemos sido colonia inglesa\". Y me pregunto, ¿estaríamos mejor?, porque también sabemos de ex-colonias a las que no les va tan bien, como Jamaica y la India. Me pareció que la respuesta podía encontrarse indangando la cuestión étnica del asunto.\n",
    "\n",
    "#### El Imperio Británico \n",
    "\n",
    "Su evolución territorial comenzó en el siglo XVI. El Reino de Gran Bretaña se formó en 1707 por la unión del Reino de Escocia con el Reino de Inglaterra. Gran Bretaña se unificó con el Reino de Irlanda en 1801 para conformar el Reino Unido. Irlanda se independizó en 1922.\n",
    "\n",
    "El Imperio Británico se refiere a las posesiones del Reino Unido. La naturaleza de los territorios y sus ocupantes varió enormemente. No existió una governancia uniforme: colonias (ocupación), dominios (colonia autónoma), protectorados (control legal), mandados (Liga de las Naciones), virreynato (Imperio Indio).\n",
    "\n",
    "Un número de dominios se independizaron en el contexto de la Primera Guerra (nacionalismo). Gran parte del imperio se desmanteló luego de la Segunda Guerra: India and Pakistan in 1947, terminando con el traspaso de Hong Kong a China en 1997. Quedan 14 territorios bajo jurisdicción del Reino Unido (territorios de ultramar). Varios ex-territorios del Imperio Británico son miembros del Commonwealth.\n",
    "\n",
    "*Fuente*: https://en.wikipedia.org/wiki/Territorial_evolution_of_the_British_Empire\n",
    "\n",
    "![](bbc1.png)\n",
    "![](bbc2.png)\n",
    "![](bbc3.png)\n",
    "![](bbc4.png)\n",
    "![](bbc5.png)\n",
    "![](bbc6.png)\n",
    "\n",
    "*Fuente*: https://www.theguardian.com/news/datablog/gallery/2014/sep/19/every-single-country-that-has-left-the-united-kingdom-mapped"
   ]
  },
  {
   "cell_type": "markdown",
   "metadata": {},
   "source": [
    "### Metodología\n",
    "\n",
    "1. Valorar el bienestar de los países por su producto bruto interno per cápita. Tomamos el promedio del periodo comprendido entre 2007 y 2017.\n",
    "2. Observar la composición étnica de cada país. Tomamos el grupo étnico mayoritario.\n",
    "3. Considerar solo los países que fueron colonizados por el Reino Unido.\n",
    "4. Comparar los resultados con Argentina."
   ]
  },
  {
   "cell_type": "markdown",
   "metadata": {},
   "source": [
    "### Resultados"
   ]
  },
  {
   "cell_type": "code",
   "execution_count": 1,
   "metadata": {},
   "outputs": [],
   "source": [
    "import pandas as pd\n",
    "\n",
    "import matplotlib.pyplot as plt\n",
    "import seaborn as sns\n",
    "\n",
    "%matplotlib notebook"
   ]
  },
  {
   "cell_type": "markdown",
   "metadata": {},
   "source": [
    "Comenzamos con la importación de datasets."
   ]
  },
  {
   "cell_type": "markdown",
   "metadata": {},
   "source": [
    "#### PBI per cápita\n",
    "\n",
    "UNdata > United Nations Statistics Division > National Accounts Estimates of Main Aggregates > Per capita GDP at current prices - US dollars\n",
    "\n",
    "http://data.un.org/Data.aspx?q=GDP&d=SNAAMA&f=grID%3a101%3bcurrID%3aUSD%3bpcFlag%3a1"
   ]
  },
  {
   "cell_type": "code",
   "execution_count": 2,
   "metadata": {},
   "outputs": [
    {
     "data": {
      "text/html": [
       "<div>\n",
       "<style scoped>\n",
       "    .dataframe tbody tr th:only-of-type {\n",
       "        vertical-align: middle;\n",
       "    }\n",
       "\n",
       "    .dataframe tbody tr th {\n",
       "        vertical-align: top;\n",
       "    }\n",
       "\n",
       "    .dataframe thead th {\n",
       "        text-align: right;\n",
       "    }\n",
       "</style>\n",
       "<table border=\"1\" class=\"dataframe\">\n",
       "  <thead>\n",
       "    <tr style=\"text-align: right;\">\n",
       "      <th></th>\n",
       "      <th>Country or Area</th>\n",
       "      <th>Year</th>\n",
       "      <th>Item</th>\n",
       "      <th>Value</th>\n",
       "    </tr>\n",
       "  </thead>\n",
       "  <tbody>\n",
       "    <tr>\n",
       "      <th>0</th>\n",
       "      <td>Afghanistan</td>\n",
       "      <td>2017</td>\n",
       "      <td>Gross Domestic Product (GDP)</td>\n",
       "      <td>618.989990</td>\n",
       "    </tr>\n",
       "    <tr>\n",
       "      <th>1</th>\n",
       "      <td>Afghanistan</td>\n",
       "      <td>2016</td>\n",
       "      <td>Gross Domestic Product (GDP)</td>\n",
       "      <td>583.883061</td>\n",
       "    </tr>\n",
       "    <tr>\n",
       "      <th>2</th>\n",
       "      <td>Afghanistan</td>\n",
       "      <td>2015</td>\n",
       "      <td>Gross Domestic Product (GDP)</td>\n",
       "      <td>610.854545</td>\n",
       "    </tr>\n",
       "    <tr>\n",
       "      <th>3</th>\n",
       "      <td>Afghanistan</td>\n",
       "      <td>2014</td>\n",
       "      <td>Gross Domestic Product (GDP)</td>\n",
       "      <td>651.158426</td>\n",
       "    </tr>\n",
       "    <tr>\n",
       "      <th>4</th>\n",
       "      <td>Afghanistan</td>\n",
       "      <td>2013</td>\n",
       "      <td>Gross Domestic Product (GDP)</td>\n",
       "      <td>681.034215</td>\n",
       "    </tr>\n",
       "  </tbody>\n",
       "</table>\n",
       "</div>"
      ],
      "text/plain": [
       "  Country or Area  Year                          Item       Value\n",
       "0     Afghanistan  2017  Gross Domestic Product (GDP)  618.989990\n",
       "1     Afghanistan  2016  Gross Domestic Product (GDP)  583.883061\n",
       "2     Afghanistan  2015  Gross Domestic Product (GDP)  610.854545\n",
       "3     Afghanistan  2014  Gross Domestic Product (GDP)  651.158426\n",
       "4     Afghanistan  2013  Gross Domestic Product (GDP)  681.034215"
      ]
     },
     "execution_count": 2,
     "metadata": {},
     "output_type": "execute_result"
    }
   ],
   "source": [
    "pbi = pd.read_csv('UNdata_Export_20190508_182127808.zip')\n",
    "pbi.head()"
   ]
  },
  {
   "cell_type": "code",
   "execution_count": 3,
   "metadata": {
    "scrolled": true
   },
   "outputs": [],
   "source": [
    "pbi = pbi.rename(columns={'Country or Area':'país','Year':'año','Value':'PBI per cápita'})[['país', 'año', 'PBI per cápita']]"
   ]
  },
  {
   "cell_type": "markdown",
   "metadata": {},
   "source": [
    "##### groupby\n",
    "\n",
    "![](https://jakevdp.github.io/PythonDataScienceHandbook/figures/03.08-split-apply-combine.png)\n",
    "\n",
    "*Fuente*: https://jakevdp.github.io/PythonDataScienceHandbook"
   ]
  },
  {
   "cell_type": "code",
   "execution_count": 4,
   "metadata": {},
   "outputs": [
    {
     "data": {
      "text/plain": [
       "país\n",
       "Afghanistan      571.0\n",
       "Albania         4172.0\n",
       "Algeria         4661.0\n",
       "Andorra        41297.0\n",
       "Angola          4200.0\n",
       "Name: PBI per cápita, dtype: float64"
      ]
     },
     "execution_count": 4,
     "metadata": {},
     "output_type": "execute_result"
    }
   ],
   "source": [
    "pbi = pbi[pbi.año.between(2007,2017)].groupby('país')['PBI per cápita'].mean().round()\n",
    "pbi.head()"
   ]
  },
  {
   "cell_type": "markdown",
   "metadata": {},
   "source": [
    "#### Composición étnica de los países\n",
    "\n",
    "Norwegian Centre for Research Data > MacroDataGuide > Fractionalization Data\n",
    "\n",
    "https://nsd.no/macrodataguide/set.html?id=16&sub=1\n",
    "\n",
    "https://www.anderson.ucla.edu/faculty_pages/romain.wacziarg/downloads/2003_fractionalization.xls"
   ]
  },
  {
   "cell_type": "code",
   "execution_count": 5,
   "metadata": {},
   "outputs": [],
   "source": [
    "# para leer Excel se necesita tener instalado este paquete\n",
    "#!pip install xlrd"
   ]
  },
  {
   "cell_type": "code",
   "execution_count": 6,
   "metadata": {},
   "outputs": [
    {
     "data": {
      "text/html": [
       "<div>\n",
       "<style scoped>\n",
       "    .dataframe tbody tr th:only-of-type {\n",
       "        vertical-align: middle;\n",
       "    }\n",
       "\n",
       "    .dataframe tbody tr th {\n",
       "        vertical-align: top;\n",
       "    }\n",
       "\n",
       "    .dataframe thead th {\n",
       "        text-align: right;\n",
       "    }\n",
       "</style>\n",
       "<table border=\"1\" class=\"dataframe\">\n",
       "  <thead>\n",
       "    <tr style=\"text-align: right;\">\n",
       "      <th></th>\n",
       "      <th>Source</th>\n",
       "      <th>Date</th>\n",
       "      <th>Country</th>\n",
       "      <th>Group</th>\n",
       "      <th>Percent</th>\n",
       "      <th>Ethnic</th>\n",
       "      <th>Comments</th>\n",
       "    </tr>\n",
       "  </thead>\n",
       "  <tbody>\n",
       "    <tr>\n",
       "      <th>0</th>\n",
       "      <td>wdm</td>\n",
       "      <td>1995</td>\n",
       "      <td>Afghanistan</td>\n",
       "      <td>Pashtuns</td>\n",
       "      <td>30.000000</td>\n",
       "      <td>0.769345</td>\n",
       "      <td>NaN</td>\n",
       "    </tr>\n",
       "    <tr>\n",
       "      <th>1</th>\n",
       "      <td>wdm</td>\n",
       "      <td>1995</td>\n",
       "      <td>Afghanistan</td>\n",
       "      <td>Tajiks</td>\n",
       "      <td>30.000000</td>\n",
       "      <td>NaN</td>\n",
       "      <td>NaN</td>\n",
       "    </tr>\n",
       "    <tr>\n",
       "      <th>2</th>\n",
       "      <td>wdm</td>\n",
       "      <td>1995</td>\n",
       "      <td>Afghanistan</td>\n",
       "      <td>Hazara</td>\n",
       "      <td>16.000000</td>\n",
       "      <td>NaN</td>\n",
       "      <td>NaN</td>\n",
       "    </tr>\n",
       "    <tr>\n",
       "      <th>3</th>\n",
       "      <td>wdm</td>\n",
       "      <td>1995</td>\n",
       "      <td>Afghanistan</td>\n",
       "      <td>Turkmens, Uzbeks</td>\n",
       "      <td>13.000000</td>\n",
       "      <td>NaN</td>\n",
       "      <td>NaN</td>\n",
       "    </tr>\n",
       "    <tr>\n",
       "      <th>4</th>\n",
       "      <td>wdm</td>\n",
       "      <td>1995</td>\n",
       "      <td>Afghanistan</td>\n",
       "      <td>Koochis</td>\n",
       "      <td>8.858407</td>\n",
       "      <td>NaN</td>\n",
       "      <td>NaN</td>\n",
       "    </tr>\n",
       "  </tbody>\n",
       "</table>\n",
       "</div>"
      ],
      "text/plain": [
       "  Source  Date      Country             Group    Percent    Ethnic Comments\n",
       "0    wdm  1995  Afghanistan          Pashtuns  30.000000  0.769345      NaN\n",
       "1    wdm  1995  Afghanistan            Tajiks  30.000000       NaN      NaN\n",
       "2    wdm  1995  Afghanistan            Hazara  16.000000       NaN      NaN\n",
       "3    wdm  1995  Afghanistan  Turkmens, Uzbeks  13.000000       NaN      NaN\n",
       "4    wdm  1995  Afghanistan           Koochis   8.858407       NaN      NaN"
      ]
     },
     "execution_count": 6,
     "metadata": {},
     "output_type": "execute_result"
    }
   ],
   "source": [
    "etn = pd.read_excel('2003_fractionalization.xls', header=5, sheet_name=1)\n",
    "etn.head()"
   ]
  },
  {
   "cell_type": "code",
   "execution_count": 7,
   "metadata": {},
   "outputs": [],
   "source": [
    "etn = etn.rename(columns={'Country':'país','Group':'etnia','Percent':'composición'})[['país','etnia','composición']]"
   ]
  },
  {
   "cell_type": "code",
   "execution_count": 8,
   "metadata": {},
   "outputs": [
    {
     "data": {
      "text/html": [
       "<div>\n",
       "<style scoped>\n",
       "    .dataframe tbody tr th:only-of-type {\n",
       "        vertical-align: middle;\n",
       "    }\n",
       "\n",
       "    .dataframe tbody tr th {\n",
       "        vertical-align: top;\n",
       "    }\n",
       "\n",
       "    .dataframe thead th {\n",
       "        text-align: right;\n",
       "    }\n",
       "</style>\n",
       "<table border=\"1\" class=\"dataframe\">\n",
       "  <thead>\n",
       "    <tr style=\"text-align: right;\">\n",
       "      <th></th>\n",
       "      <th>etnia</th>\n",
       "      <th>composición</th>\n",
       "    </tr>\n",
       "    <tr>\n",
       "      <th>país</th>\n",
       "      <th></th>\n",
       "      <th></th>\n",
       "    </tr>\n",
       "  </thead>\n",
       "  <tbody>\n",
       "    <tr>\n",
       "      <th>Afghanistan</th>\n",
       "      <td>Pashtuns</td>\n",
       "      <td>30.0</td>\n",
       "    </tr>\n",
       "    <tr>\n",
       "      <th>Albania</th>\n",
       "      <td>Albanians</td>\n",
       "      <td>88.1</td>\n",
       "    </tr>\n",
       "    <tr>\n",
       "      <th>Algeria</th>\n",
       "      <td>Arab</td>\n",
       "      <td>80.0</td>\n",
       "    </tr>\n",
       "    <tr>\n",
       "      <th>Andorra</th>\n",
       "      <td>Spanish</td>\n",
       "      <td>44.4</td>\n",
       "    </tr>\n",
       "    <tr>\n",
       "      <th>Angola</th>\n",
       "      <td>Ovimbundu</td>\n",
       "      <td>37.2</td>\n",
       "    </tr>\n",
       "  </tbody>\n",
       "</table>\n",
       "</div>"
      ],
      "text/plain": [
       "                 etnia  composición\n",
       "país                               \n",
       "Afghanistan   Pashtuns         30.0\n",
       "Albania      Albanians         88.1\n",
       "Algeria           Arab         80.0\n",
       "Andorra        Spanish         44.4\n",
       "Angola       Ovimbundu         37.2"
      ]
     },
     "execution_count": 8,
     "metadata": {},
     "output_type": "execute_result"
    }
   ],
   "source": [
    "etn = etn.groupby('país').apply(lambda x: x.nlargest(1, 'composición')).set_index('país', drop=True)\n",
    "etn.head()"
   ]
  },
  {
   "cell_type": "markdown",
   "metadata": {},
   "source": [
    "#### Países colonizados por el Reino Unido\n",
    "\n",
    "ICOW > Historical State Names\n",
    "\n",
    "https://www.paulhensel.org/icownames.html#data\n",
    "\n",
    "![](icow.png)"
   ]
  },
  {
   "cell_type": "code",
   "execution_count": 9,
   "metadata": {},
   "outputs": [
    {
     "data": {
      "text/html": [
       "<div>\n",
       "<style scoped>\n",
       "    .dataframe tbody tr th:only-of-type {\n",
       "        vertical-align: middle;\n",
       "    }\n",
       "\n",
       "    .dataframe tbody tr th {\n",
       "        vertical-align: top;\n",
       "    }\n",
       "\n",
       "    .dataframe thead th {\n",
       "        text-align: right;\n",
       "    }\n",
       "</style>\n",
       "<table border=\"1\" class=\"dataframe\">\n",
       "  <thead>\n",
       "    <tr style=\"text-align: right;\">\n",
       "      <th></th>\n",
       "      <th>Name</th>\n",
       "      <th>Alternative Spellings / Names / Related Entities</th>\n",
       "      <th>Primary Colonial Ruler</th>\n",
       "      <th>Capital(s) since 1800</th>\n",
       "      <th>Adjective(s)</th>\n",
       "    </tr>\n",
       "    <tr>\n",
       "      <th>Num</th>\n",
       "      <th></th>\n",
       "      <th></th>\n",
       "      <th></th>\n",
       "      <th></th>\n",
       "      <th></th>\n",
       "    </tr>\n",
       "  </thead>\n",
       "  <tbody>\n",
       "    <tr>\n",
       "      <th>2</th>\n",
       "      <td>United States of America</td>\n",
       "      <td>US/U.S./United States; USA/U.S.A.</td>\n",
       "      <td>200 UK</td>\n",
       "      <td>Washington D.C.</td>\n",
       "      <td>American</td>\n",
       "    </tr>\n",
       "    <tr>\n",
       "      <th>20</th>\n",
       "      <td>Canada</td>\n",
       "      <td>British possessions: British North AmericaFren...</td>\n",
       "      <td>200 UK</td>\n",
       "      <td>Ottawa (Kingston 1841-1843, Montreal 1843-1849...</td>\n",
       "      <td>Canadian</td>\n",
       "    </tr>\n",
       "    <tr>\n",
       "      <th>31</th>\n",
       "      <td>Bahamas</td>\n",
       "      <td>Bahama Islands; Lucayos</td>\n",
       "      <td>200 UK</td>\n",
       "      <td>Nassau</td>\n",
       "      <td>Bahaman, Bahamian</td>\n",
       "    </tr>\n",
       "    <tr>\n",
       "      <th>40</th>\n",
       "      <td>Cuba</td>\n",
       "      <td>(None)</td>\n",
       "      <td>230 Spain</td>\n",
       "      <td>Havana</td>\n",
       "      <td>Cuban</td>\n",
       "    </tr>\n",
       "    <tr>\n",
       "      <th>41</th>\n",
       "      <td>Haiti</td>\n",
       "      <td>Ayiti (native); Hayti; Saint-Domingue</td>\n",
       "      <td>220 France</td>\n",
       "      <td>Port-au-Prince</td>\n",
       "      <td>Haitian</td>\n",
       "    </tr>\n",
       "  </tbody>\n",
       "</table>\n",
       "</div>"
      ],
      "text/plain": [
       "                         Name  \\\n",
       "Num                             \n",
       "2    United States of America   \n",
       "20                     Canada   \n",
       "31                    Bahamas   \n",
       "40                       Cuba   \n",
       "41                      Haiti   \n",
       "\n",
       "      Alternative Spellings / Names / Related Entities Primary Colonial Ruler  \\\n",
       "Num                                                                             \n",
       "2                    US/U.S./United States; USA/U.S.A.                 200 UK   \n",
       "20   British possessions: British North AmericaFren...                 200 UK   \n",
       "31                             Bahama Islands; Lucayos                 200 UK   \n",
       "40                                              (None)              230 Spain   \n",
       "41               Ayiti (native); Hayti; Saint-Domingue             220 France   \n",
       "\n",
       "                                 Capital(s) since 1800       Adjective(s)  \n",
       "Num                                                                        \n",
       "2                                      Washington D.C.           American  \n",
       "20   Ottawa (Kingston 1841-1843, Montreal 1843-1849...           Canadian  \n",
       "31                                              Nassau  Bahaman, Bahamian  \n",
       "40                                              Havana              Cuban  \n",
       "41                                      Port-au-Prince            Haitian  "
      ]
     },
     "execution_count": 9,
     "metadata": {},
     "output_type": "execute_result"
    }
   ],
   "source": [
    "# read_html devuelve una lista de DataFrames por eso nos quedamos con el primer (y único) elemento\n",
    "df = pd.read_html('https://www.paulhensel.org/icownames.html', header=0, index_col='Num')[0]\n",
    "df.head()"
   ]
  },
  {
   "cell_type": "code",
   "execution_count": 10,
   "metadata": {},
   "outputs": [
    {
     "data": {
      "text/plain": [
       "array(['Afghanistan', 'Antigua and Barbuda', 'Australia', 'Bahamas',\n",
       "       'Bahrain', 'Bangladesh', 'Barbados', 'Belize', 'Bhutan',\n",
       "       'Botswana', 'Brunei', 'Canada', 'Cyprus', 'Dominica', 'Fiji',\n",
       "       'Gambia', 'Ghana', 'Grenada', 'Guyana', 'India', 'Ireland',\n",
       "       'Jamaica', 'Kenya', 'Kiribati', 'Kuwait', 'Lesotho', 'Malawi',\n",
       "       'Malaysia', 'Maldive Islands', 'Malta', 'Myanmar', 'Namibia',\n",
       "       'New Zealand', 'Nigeria', 'Pakistan', 'Papua New Guinea', 'Qatar',\n",
       "       'Saint Kitts and Nevis', 'Saint Lucia',\n",
       "       'Saint Vincent and Grenadines', 'Seychelles', 'Sierra Leone',\n",
       "       'Singapore', 'Solomon Islands', 'South Africa', 'South Sudan',\n",
       "       'Sri Lanka', 'Sudan', 'Tanzania', 'Tonga', 'Trinidad and Tobago',\n",
       "       'Tuvalu', 'Uganda', 'United Arab Emirates',\n",
       "       'United States of America', 'Vanuatu', 'Yemen',\n",
       "       \"Yemen People's Republic\", 'Zambia', 'Zanzibar', 'Zimbabwe',\n",
       "       'eSwatini'], dtype=object)"
      ]
     },
     "execution_count": 10,
     "metadata": {},
     "output_type": "execute_result"
    }
   ],
   "source": [
    "posesiones_uk = df['Primary Colonial Ruler'] == '200 UK'\n",
    "\n",
    "uk = df[posesiones_uk].Name.sort_values()\n",
    "\n",
    "uk.name = 'país'\n",
    "uk.index.rename('código', inplace=True)\n",
    "\n",
    "uk.values"
   ]
  },
  {
   "cell_type": "markdown",
   "metadata": {},
   "source": [
    "Notas\n",
    "* Zanzibar pertenece a Tanzania.\n",
    "* Yemen árabe y Yemen británico se unificaron en el '90.\n",
    "* Faltan Mauritius, Nauru, Somaliland (no un país), Samoa; quizás islas muy pequeñas.\n",
    "* Jordan, Israel, Irak, Egipto; quizás porque no fueron colonias.\n",
    "* No está Hong Kong.\n",
    "\n",
    "No es una lista fácil de armar...\n",
    "\n",
    "Agregamos a Argentina para comparar luego."
   ]
  },
  {
   "cell_type": "code",
   "execution_count": 11,
   "metadata": {},
   "outputs": [],
   "source": [
    "uk[0] = 'Argentina'"
   ]
  },
  {
   "cell_type": "markdown",
   "metadata": {},
   "source": [
    "---\n",
    "\n",
    "#### Unión de los datasets"
   ]
  },
  {
   "cell_type": "markdown",
   "metadata": {},
   "source": [
    "##### merge\n",
    "\n",
    "![](https://pandas.pydata.org/pandas-docs/stable/_images/merging_merge_on_key.png)\n",
    "\n",
    "*Fuente*: https://pandas.pydata.org/pandas-docs/stable/user_guide/merging.html"
   ]
  },
  {
   "cell_type": "code",
   "execution_count": 12,
   "metadata": {},
   "outputs": [
    {
     "data": {
      "text/html": [
       "<div>\n",
       "<style scoped>\n",
       "    .dataframe tbody tr th:only-of-type {\n",
       "        vertical-align: middle;\n",
       "    }\n",
       "\n",
       "    .dataframe tbody tr th {\n",
       "        vertical-align: top;\n",
       "    }\n",
       "\n",
       "    .dataframe thead th {\n",
       "        text-align: right;\n",
       "    }\n",
       "</style>\n",
       "<table border=\"1\" class=\"dataframe\">\n",
       "  <thead>\n",
       "    <tr style=\"text-align: right;\">\n",
       "      <th></th>\n",
       "      <th>país</th>\n",
       "      <th>PBI per cápita</th>\n",
       "    </tr>\n",
       "    <tr>\n",
       "      <th>código</th>\n",
       "      <th></th>\n",
       "      <th></th>\n",
       "    </tr>\n",
       "  </thead>\n",
       "  <tbody>\n",
       "    <tr>\n",
       "      <th>835</th>\n",
       "      <td>Brunei</td>\n",
       "      <td>NaN</td>\n",
       "    </tr>\n",
       "    <tr>\n",
       "      <th>781</th>\n",
       "      <td>Maldive Islands</td>\n",
       "      <td>NaN</td>\n",
       "    </tr>\n",
       "    <tr>\n",
       "      <th>57</th>\n",
       "      <td>Saint Vincent and Grenadines</td>\n",
       "      <td>NaN</td>\n",
       "    </tr>\n",
       "    <tr>\n",
       "      <th>510</th>\n",
       "      <td>Tanzania</td>\n",
       "      <td>NaN</td>\n",
       "    </tr>\n",
       "    <tr>\n",
       "      <th>2</th>\n",
       "      <td>United States of America</td>\n",
       "      <td>NaN</td>\n",
       "    </tr>\n",
       "    <tr>\n",
       "      <th>680</th>\n",
       "      <td>Yemen People's Republic</td>\n",
       "      <td>NaN</td>\n",
       "    </tr>\n",
       "    <tr>\n",
       "      <th>511</th>\n",
       "      <td>Zanzibar</td>\n",
       "      <td>NaN</td>\n",
       "    </tr>\n",
       "    <tr>\n",
       "      <th>572</th>\n",
       "      <td>eSwatini</td>\n",
       "      <td>NaN</td>\n",
       "    </tr>\n",
       "  </tbody>\n",
       "</table>\n",
       "</div>"
      ],
      "text/plain": [
       "                                país  PBI per cápita\n",
       "código                                              \n",
       "835                           Brunei             NaN\n",
       "781                  Maldive Islands             NaN\n",
       "57      Saint Vincent and Grenadines             NaN\n",
       "510                         Tanzania             NaN\n",
       "2           United States of America             NaN\n",
       "680          Yemen People's Republic             NaN\n",
       "511                         Zanzibar             NaN\n",
       "572                         eSwatini             NaN"
      ]
     },
     "execution_count": 12,
     "metadata": {},
     "output_type": "execute_result"
    }
   ],
   "source": [
    "aux = pd.merge(uk, pbi, left_on='país', right_index=True, how='left')\n",
    "aux[aux['PBI per cápita'].isnull()]"
   ]
  },
  {
   "cell_type": "code",
   "execution_count": 13,
   "metadata": {},
   "outputs": [],
   "source": [
    "# intentamos arreglar uk\n",
    "\n",
    "# Brunei está bien\n",
    "uk[781] = 'Maldives'\n",
    "uk[ 57] = 'Saint Vincent and the Grenadines'\n",
    "# Tanzania ok\n",
    "uk[  2] = 'United States'\n",
    "del uk[680]\n",
    "del uk[511]\n",
    "uk[572] = 'Swaziland'"
   ]
  },
  {
   "cell_type": "code",
   "execution_count": 14,
   "metadata": {},
   "outputs": [],
   "source": [
    "# intentamos arreglar pbi\n",
    "\n",
    "pbi.rename(index={'Brunei Darussalam':'Brunei','United Republic of Tanzania: Mainland':'Tanzania'}, inplace=True)"
   ]
  },
  {
   "cell_type": "code",
   "execution_count": 15,
   "metadata": {},
   "outputs": [
    {
     "data": {
      "text/html": [
       "<div>\n",
       "<style scoped>\n",
       "    .dataframe tbody tr th:only-of-type {\n",
       "        vertical-align: middle;\n",
       "    }\n",
       "\n",
       "    .dataframe tbody tr th {\n",
       "        vertical-align: top;\n",
       "    }\n",
       "\n",
       "    .dataframe thead th {\n",
       "        text-align: right;\n",
       "    }\n",
       "</style>\n",
       "<table border=\"1\" class=\"dataframe\">\n",
       "  <thead>\n",
       "    <tr style=\"text-align: right;\">\n",
       "      <th></th>\n",
       "      <th>país</th>\n",
       "      <th>PBI per cápita</th>\n",
       "    </tr>\n",
       "    <tr>\n",
       "      <th>código</th>\n",
       "      <th></th>\n",
       "      <th></th>\n",
       "    </tr>\n",
       "  </thead>\n",
       "  <tbody>\n",
       "    <tr>\n",
       "      <th>572</th>\n",
       "      <td>Swaziland</td>\n",
       "      <td>NaN</td>\n",
       "    </tr>\n",
       "  </tbody>\n",
       "</table>\n",
       "</div>"
      ],
      "text/plain": [
       "             país  PBI per cápita\n",
       "código                           \n",
       "572     Swaziland             NaN"
      ]
     },
     "execution_count": 15,
     "metadata": {},
     "output_type": "execute_result"
    }
   ],
   "source": [
    "# ahora sí hacemos la unión de verdad\n",
    "uk_pbi = pd.merge(uk, pbi, left_on='país', right_index=True, how='left')\n",
    "\n",
    "# verificamos quien queda afuera (no está en pbi)\n",
    "uk_pbi[uk_pbi['PBI per cápita'].isnull()]"
   ]
  },
  {
   "cell_type": "code",
   "execution_count": 16,
   "metadata": {},
   "outputs": [
    {
     "data": {
      "text/html": [
       "<div>\n",
       "<style scoped>\n",
       "    .dataframe tbody tr th:only-of-type {\n",
       "        vertical-align: middle;\n",
       "    }\n",
       "\n",
       "    .dataframe tbody tr th {\n",
       "        vertical-align: top;\n",
       "    }\n",
       "\n",
       "    .dataframe thead th {\n",
       "        text-align: right;\n",
       "    }\n",
       "</style>\n",
       "<table border=\"1\" class=\"dataframe\">\n",
       "  <thead>\n",
       "    <tr style=\"text-align: right;\">\n",
       "      <th></th>\n",
       "      <th>país</th>\n",
       "      <th>PBI per cápita</th>\n",
       "      <th>etnia</th>\n",
       "      <th>composición</th>\n",
       "    </tr>\n",
       "    <tr>\n",
       "      <th>código</th>\n",
       "      <th></th>\n",
       "      <th></th>\n",
       "      <th></th>\n",
       "      <th></th>\n",
       "    </tr>\n",
       "  </thead>\n",
       "  <tbody>\n",
       "    <tr>\n",
       "      <th>420</th>\n",
       "      <td>Gambia</td>\n",
       "      <td>768.0</td>\n",
       "      <td>NaN</td>\n",
       "      <td>NaN</td>\n",
       "    </tr>\n",
       "    <tr>\n",
       "      <th>781</th>\n",
       "      <td>Maldives</td>\n",
       "      <td>8124.0</td>\n",
       "      <td>NaN</td>\n",
       "      <td>NaN</td>\n",
       "    </tr>\n",
       "    <tr>\n",
       "      <th>60</th>\n",
       "      <td>Saint Kitts and Nevis</td>\n",
       "      <td>14948.0</td>\n",
       "      <td>NaN</td>\n",
       "      <td>NaN</td>\n",
       "    </tr>\n",
       "    <tr>\n",
       "      <th>57</th>\n",
       "      <td>Saint Vincent and the Grenadines</td>\n",
       "      <td>6529.0</td>\n",
       "      <td>NaN</td>\n",
       "      <td>NaN</td>\n",
       "    </tr>\n",
       "    <tr>\n",
       "      <th>626</th>\n",
       "      <td>South Sudan</td>\n",
       "      <td>1171.0</td>\n",
       "      <td>NaN</td>\n",
       "      <td>NaN</td>\n",
       "    </tr>\n",
       "    <tr>\n",
       "      <th>679</th>\n",
       "      <td>Yemen</td>\n",
       "      <td>1196.0</td>\n",
       "      <td>NaN</td>\n",
       "      <td>NaN</td>\n",
       "    </tr>\n",
       "  </tbody>\n",
       "</table>\n",
       "</div>"
      ],
      "text/plain": [
       "                                    país  PBI per cápita etnia  composición\n",
       "código                                                                     \n",
       "420                               Gambia           768.0   NaN          NaN\n",
       "781                             Maldives          8124.0   NaN          NaN\n",
       "60                 Saint Kitts and Nevis         14948.0   NaN          NaN\n",
       "57      Saint Vincent and the Grenadines          6529.0   NaN          NaN\n",
       "626                          South Sudan          1171.0   NaN          NaN\n",
       "679                                Yemen          1196.0   NaN          NaN"
      ]
     },
     "execution_count": 16,
     "metadata": {},
     "output_type": "execute_result"
    }
   ],
   "source": [
    "aux = pd.merge(uk_pbi, etn, left_on='país', right_index=True, how='left')\n",
    "aux[aux.etnia.isnull()]"
   ]
  },
  {
   "cell_type": "code",
   "execution_count": 17,
   "metadata": {},
   "outputs": [],
   "source": [
    "etn.rename(index={'Gambia (The)':'Gambia','St Kitts & Nevis':'Saint Kitts and Nevis',\n",
    "                  'Saint Vincent and Grenadines':'Saint Vincent and the Grenadines'}, inplace=True)"
   ]
  },
  {
   "cell_type": "code",
   "execution_count": 18,
   "metadata": {},
   "outputs": [
    {
     "data": {
      "text/html": [
       "<div>\n",
       "<style scoped>\n",
       "    .dataframe tbody tr th:only-of-type {\n",
       "        vertical-align: middle;\n",
       "    }\n",
       "\n",
       "    .dataframe tbody tr th {\n",
       "        vertical-align: top;\n",
       "    }\n",
       "\n",
       "    .dataframe thead th {\n",
       "        text-align: right;\n",
       "    }\n",
       "</style>\n",
       "<table border=\"1\" class=\"dataframe\">\n",
       "  <thead>\n",
       "    <tr style=\"text-align: right;\">\n",
       "      <th></th>\n",
       "      <th>país</th>\n",
       "      <th>PBI per cápita</th>\n",
       "      <th>etnia</th>\n",
       "      <th>composición</th>\n",
       "    </tr>\n",
       "    <tr>\n",
       "      <th>código</th>\n",
       "      <th></th>\n",
       "      <th></th>\n",
       "      <th></th>\n",
       "      <th></th>\n",
       "    </tr>\n",
       "  </thead>\n",
       "  <tbody>\n",
       "    <tr>\n",
       "      <th>781</th>\n",
       "      <td>Maldives</td>\n",
       "      <td>8124.0</td>\n",
       "      <td>NaN</td>\n",
       "      <td>NaN</td>\n",
       "    </tr>\n",
       "    <tr>\n",
       "      <th>626</th>\n",
       "      <td>South Sudan</td>\n",
       "      <td>1171.0</td>\n",
       "      <td>NaN</td>\n",
       "      <td>NaN</td>\n",
       "    </tr>\n",
       "    <tr>\n",
       "      <th>679</th>\n",
       "      <td>Yemen</td>\n",
       "      <td>1196.0</td>\n",
       "      <td>NaN</td>\n",
       "      <td>NaN</td>\n",
       "    </tr>\n",
       "  </tbody>\n",
       "</table>\n",
       "</div>"
      ],
      "text/plain": [
       "               país  PBI per cápita etnia  composición\n",
       "código                                                \n",
       "781        Maldives          8124.0   NaN          NaN\n",
       "626     South Sudan          1171.0   NaN          NaN\n",
       "679           Yemen          1196.0   NaN          NaN"
      ]
     },
     "execution_count": 18,
     "metadata": {},
     "output_type": "execute_result"
    }
   ],
   "source": [
    "uk_pbi_etn = pd.merge(uk_pbi, etn, left_on='país', right_index=True, how='left')\n",
    "uk_pbi_etn[uk_pbi_etn.etnia.isnull()]"
   ]
  },
  {
   "cell_type": "code",
   "execution_count": 19,
   "metadata": {},
   "outputs": [
    {
     "data": {
      "text/html": [
       "<div>\n",
       "<style scoped>\n",
       "    .dataframe tbody tr th:only-of-type {\n",
       "        vertical-align: middle;\n",
       "    }\n",
       "\n",
       "    .dataframe tbody tr th {\n",
       "        vertical-align: top;\n",
       "    }\n",
       "\n",
       "    .dataframe thead th {\n",
       "        text-align: right;\n",
       "    }\n",
       "</style>\n",
       "<table border=\"1\" class=\"dataframe\">\n",
       "  <thead>\n",
       "    <tr style=\"text-align: right;\">\n",
       "      <th></th>\n",
       "      <th>país</th>\n",
       "      <th>PBI per cápita</th>\n",
       "      <th>etnia</th>\n",
       "      <th>composición</th>\n",
       "    </tr>\n",
       "    <tr>\n",
       "      <th>código</th>\n",
       "      <th></th>\n",
       "      <th></th>\n",
       "      <th></th>\n",
       "      <th></th>\n",
       "    </tr>\n",
       "  </thead>\n",
       "  <tbody>\n",
       "    <tr>\n",
       "      <th>694</th>\n",
       "      <td>Qatar</td>\n",
       "      <td>74600.0</td>\n",
       "      <td>Arab</td>\n",
       "      <td>40.000000</td>\n",
       "    </tr>\n",
       "    <tr>\n",
       "      <th>900</th>\n",
       "      <td>Australia</td>\n",
       "      <td>57529.0</td>\n",
       "      <td>White</td>\n",
       "      <td>95.200000</td>\n",
       "    </tr>\n",
       "    <tr>\n",
       "      <th>205</th>\n",
       "      <td>Ireland</td>\n",
       "      <td>56666.0</td>\n",
       "      <td>1</td>\n",
       "      <td>93.700000</td>\n",
       "    </tr>\n",
       "    <tr>\n",
       "      <th>2</th>\n",
       "      <td>United States</td>\n",
       "      <td>52493.0</td>\n",
       "      <td>White</td>\n",
       "      <td>69.132065</td>\n",
       "    </tr>\n",
       "    <tr>\n",
       "      <th>830</th>\n",
       "      <td>Singapore</td>\n",
       "      <td>50200.0</td>\n",
       "      <td>Chinese</td>\n",
       "      <td>76.700000</td>\n",
       "    </tr>\n",
       "  </tbody>\n",
       "</table>\n",
       "</div>"
      ],
      "text/plain": [
       "                 país  PBI per cápita    etnia  composición\n",
       "código                                                     \n",
       "694             Qatar         74600.0     Arab    40.000000\n",
       "900         Australia         57529.0    White    95.200000\n",
       "205           Ireland         56666.0        1    93.700000\n",
       "2       United States         52493.0    White    69.132065\n",
       "830         Singapore         50200.0  Chinese    76.700000"
      ]
     },
     "execution_count": 19,
     "metadata": {},
     "output_type": "execute_result"
    }
   ],
   "source": [
    "uk_pbi_etn.dropna(inplace=True)\n",
    "uk_pbi_etn.sort_values('PBI per cápita', ascending=False, inplace=True)\n",
    "uk_pbi_etn.head()"
   ]
  },
  {
   "cell_type": "code",
   "execution_count": 20,
   "metadata": {},
   "outputs": [
    {
     "data": {
      "text/html": [
       "<div>\n",
       "<style scoped>\n",
       "    .dataframe tbody tr th:only-of-type {\n",
       "        vertical-align: middle;\n",
       "    }\n",
       "\n",
       "    .dataframe tbody tr th {\n",
       "        vertical-align: top;\n",
       "    }\n",
       "\n",
       "    .dataframe thead th {\n",
       "        text-align: right;\n",
       "    }\n",
       "</style>\n",
       "<table border=\"1\" class=\"dataframe\">\n",
       "  <thead>\n",
       "    <tr style=\"text-align: right;\">\n",
       "      <th></th>\n",
       "      <th>PBI per cápita</th>\n",
       "      <th>composición</th>\n",
       "    </tr>\n",
       "  </thead>\n",
       "  <tbody>\n",
       "    <tr>\n",
       "      <th>count</th>\n",
       "      <td>57.000000</td>\n",
       "      <td>57.000000</td>\n",
       "    </tr>\n",
       "    <tr>\n",
       "      <th>mean</th>\n",
       "      <td>14052.263158</td>\n",
       "      <td>66.441479</td>\n",
       "    </tr>\n",
       "    <tr>\n",
       "      <th>std</th>\n",
       "      <td>18447.952148</td>\n",
       "      <td>23.754765</td>\n",
       "    </tr>\n",
       "    <tr>\n",
       "      <th>min</th>\n",
       "      <td>373.000000</td>\n",
       "      <td>17.800000</td>\n",
       "    </tr>\n",
       "    <tr>\n",
       "      <th>25%</th>\n",
       "      <td>1571.000000</td>\n",
       "      <td>45.000000</td>\n",
       "    </tr>\n",
       "    <tr>\n",
       "      <th>50%</th>\n",
       "      <td>4879.000000</td>\n",
       "      <td>72.000000</td>\n",
       "    </tr>\n",
       "    <tr>\n",
       "      <th>75%</th>\n",
       "      <td>17911.000000</td>\n",
       "      <td>89.100000</td>\n",
       "    </tr>\n",
       "    <tr>\n",
       "      <th>max</th>\n",
       "      <td>74600.000000</td>\n",
       "      <td>97.900000</td>\n",
       "    </tr>\n",
       "  </tbody>\n",
       "</table>\n",
       "</div>"
      ],
      "text/plain": [
       "       PBI per cápita  composición\n",
       "count       57.000000    57.000000\n",
       "mean     14052.263158    66.441479\n",
       "std      18447.952148    23.754765\n",
       "min        373.000000    17.800000\n",
       "25%       1571.000000    45.000000\n",
       "50%       4879.000000    72.000000\n",
       "75%      17911.000000    89.100000\n",
       "max      74600.000000    97.900000"
      ]
     },
     "execution_count": 20,
     "metadata": {},
     "output_type": "execute_result"
    }
   ],
   "source": [
    "uk_pbi_etn.describe()"
   ]
  },
  {
   "cell_type": "code",
   "execution_count": 43,
   "metadata": {},
   "outputs": [
    {
     "data": {
      "image/png": "[encoded data removed]",
      "text/plain": [
       "<Figure size 720x1440 with 1 Axes>"
      ]
     },
     "metadata": {
      "needs_background": "light"
     },
     "output_type": "display_data"
    },
    {
     "data": {
      "image/png": "[encoded data removed]",
      "text/plain": [
       "<Figure size 360x360 with 1 Axes>"
      ]
     },
     "metadata": {
      "needs_background": "light"
     },
     "output_type": "display_data"
    }
   ],
   "source": [
    "fig, ax = plt.subplots(figsize=(10,20))\n",
    "\n",
    "sns.catplot(y='país', x='PBI per cápita', kind='bar', data=uk_pbi_etn, ax=ax)\n",
    "\n",
    "for i, p in enumerate(ax.patches):\n",
    "    width = p.get_width()\n",
    "    ax.text(width-1.5, p.get_y()+p.get_height()/2+0.2, uk_pbi_etn.iloc[i,2], ha='left')"
   ]
  },
  {
   "cell_type": "markdown",
   "metadata": {},
   "source": [
    "### Discusión"
   ]
  },
  {
   "cell_type": "markdown",
   "metadata": {},
   "source": [
    "### Conclusiones\n",
    "\n",
    "Quizás sí fuimos colonia inglesa."
   ]
  },
  {
   "cell_type": "markdown",
   "metadata": {},
   "source": [
    "---\n",
    "\n",
    "Resumen de los conceptos de Pandas:\n",
    "\n",
    "* Uso básico\n",
    "* Cargar/salvar datos en CSV, Excel, ~~bases de datos~~\n",
    "* Agrupamientos (`merge`)\n",
    "* Operaciones sobre grupos (`groupby`)\n",
    "* ~~Series temporales~~\n",
    "* Visualizaciones"
   ]
  }
 ],
 "metadata": {
  "kernelspec": {
   "display_name": "Python 3",
   "language": "python",
   "name": "python3"
  },
  "language_info": {
   "codemirror_mode": {
    "name": "ipython",
    "version": 3
   },
   "file_extension": ".py",
   "mimetype": "text/x-python",
   "name": "python",
   "nbconvert_exporter": "python",
   "pygments_lexer": "ipython3",
   "version": "3.7.1"
  }
 },
 "nbformat": 4,
 "nbformat_minor": 2
}
